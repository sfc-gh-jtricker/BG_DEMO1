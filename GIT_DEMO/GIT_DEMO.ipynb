{
 "metadata": {
  "kernelspec": {
   "display_name": "Streamlit Notebook",
   "name": "streamlit"
  },
  "lastEditStatus": {
   "notebookId": "cxja2hdig56ck2ey7usc",
   "authorId": "166697420978",
   "authorName": "JOHN",
   "authorEmail": "jerry.tricker@snowflake.com",
   "sessionId": "9b680f76-3808-4caf-ad6d-bef56f7639d7",
   "lastEditTime": 1742927863267
  }
 },
 "nbformat_minor": 5,
 "nbformat": 4,
 "cells": [
  {
   "cell_type": "code",
   "id": "3775908f-ca36-4846-8f38-5adca39217f2",
   "metadata": {
    "language": "python",
    "name": "cell1"
   },
   "source": "# Import python packages\nimport streamlit as st\nimport pandas as pd\n\n# We can also use Snowpark for our analyses!\nfrom snowflake.snowpark.context import get_active_session\nsession = get_active_session()\n",
   "execution_count": null,
   "outputs": []
  }
 ]
}